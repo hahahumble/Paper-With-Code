{
 "cells": [
  {
   "cell_type": "markdown",
   "metadata": {},
   "source": [
    "# Siamese Neural Network"
   ]
  },
  {
   "cell_type": "markdown",
   "metadata": {},
   "source": [
    "## Library"
   ]
  },
  {
   "cell_type": "code",
   "execution_count": 1,
   "metadata": {
    "scrolled": true,
    "tags": []
   },
   "outputs": [
    {
     "name": "stdout",
     "output_type": "stream",
     "text": [
      "Requirement already satisfied: matplotlib in /home/studio-lab-user/.conda/envs/default/lib/python3.9/site-packages (3.5.1)\n",
      "Requirement already satisfied: fonttools>=4.22.0 in /home/studio-lab-user/.conda/envs/default/lib/python3.9/site-packages (from matplotlib) (4.32.0)\n",
      "Requirement already satisfied: pyparsing>=2.2.1 in /home/studio-lab-user/.conda/envs/default/lib/python3.9/site-packages (from matplotlib) (3.0.7)\n",
      "Requirement already satisfied: pillow>=6.2.0 in /home/studio-lab-user/.conda/envs/default/lib/python3.9/site-packages (from matplotlib) (9.0.1)\n",
      "Requirement already satisfied: cycler>=0.10 in /home/studio-lab-user/.conda/envs/default/lib/python3.9/site-packages (from matplotlib) (0.11.0)\n",
      "Requirement already satisfied: kiwisolver>=1.0.1 in /home/studio-lab-user/.conda/envs/default/lib/python3.9/site-packages (from matplotlib) (1.4.2)\n",
      "Requirement already satisfied: python-dateutil>=2.7 in /home/studio-lab-user/.conda/envs/default/lib/python3.9/site-packages (from matplotlib) (2.8.2)\n",
      "Requirement already satisfied: numpy>=1.17 in /home/studio-lab-user/.conda/envs/default/lib/python3.9/site-packages (from matplotlib) (1.22.3)\n",
      "Requirement already satisfied: packaging>=20.0 in /home/studio-lab-user/.conda/envs/default/lib/python3.9/site-packages (from matplotlib) (21.3)\n",
      "Requirement already satisfied: six>=1.5 in /home/studio-lab-user/.conda/envs/default/lib/python3.9/site-packages (from python-dateutil>=2.7->matplotlib) (1.16.0)\n",
      "Note: you may need to restart the kernel to use updated packages.\n"
     ]
    }
   ],
   "source": [
    "%pip install matplotlib"
   ]
  },
  {
   "cell_type": "code",
   "execution_count": 37,
   "metadata": {},
   "outputs": [],
   "source": [
    "from pathlib import Path\n",
    "import matplotlib.pyplot as plt\n",
    "import random\n",
    "\n",
    "import torch\n",
    "import torchvision\n",
    "import torch.nn as nn\n",
    "import torch.optim as optim\n",
    "import torch.utils.data\n",
    "import torch.nn.functional as F\n",
    "from torchsummary import summary\n",
    "from torchvision import transforms\n",
    "from torch.utils.data import Dataset, DataLoader\n",
    "\n",
    "import requests\n",
    "import zipfile"
   ]
  },
  {
   "cell_type": "code",
   "execution_count": 3,
   "metadata": {},
   "outputs": [
    {
     "name": "stdout",
     "output_type": "stream",
     "text": [
      "/home/studio-lab-user/sagemaker-studiolab-notebooks/Paper-With-Code/Siamese Neural Network\n"
     ]
    }
   ],
   "source": [
    "print(Path.cwd())"
   ]
  },
  {
   "cell_type": "code",
   "execution_count": 4,
   "metadata": {},
   "outputs": [],
   "source": [
    "ROOT_DIR = Path(\"/home/studio-lab-user/sagemaker-studiolab-notebooks\")  # Working directory.\n",
    "\n",
    "DATASET_DIR = ROOT_DIR / \"Data\"  # Directory to store dataset.\n",
    "DATA_DIR = DATASET_DIR / \"Omniglot\"  # Directory of dataset.\n",
    "\n",
    "DATASET_DIR.mkdir(parents=True, exist_ok=True)\n",
    "DATA_DIR.mkdir(parents=True, exist_ok=True)  # Create directory if it do not exist.\n",
    "\n",
    "image_dir = DATA_DIR / \"omniglot\""
   ]
  },
  {
   "cell_type": "code",
   "execution_count": 5,
   "metadata": {},
   "outputs": [
    {
     "name": "stdout",
     "output_type": "stream",
     "text": [
      "/home/studio-lab-user/sagemaker-studiolab-notebooks/Data/Omniglot/omniglot\n"
     ]
    }
   ],
   "source": [
    "print(image_dir)"
   ]
  },
  {
   "cell_type": "markdown",
   "metadata": {},
   "source": [
    "## Prepare Dataset"
   ]
  },
  {
   "cell_type": "markdown",
   "metadata": {},
   "source": [
    "### Download Dataset"
   ]
  },
  {
   "cell_type": "code",
   "execution_count": 6,
   "metadata": {},
   "outputs": [
    {
     "name": "stdout",
     "output_type": "stream",
     "text": [
      "Dataset already exist!\n"
     ]
    }
   ],
   "source": [
    "if not image_dir.is_dir():\n",
    "    URL = \"https://www.dropbox.com/s/nfe0uj4eieivr2s/omniglot.zip?raw=1\"\n",
    "    file_name = \"omniglot.zip\"\n",
    "    file_path = DATA_DIR / file_name  # Download file path.\n",
    "\n",
    "    r = requests.get(URL, allow_redirects=True)\n",
    "    open(file_path, 'wb').write(r.content)\n",
    "\n",
    "    print('Dataset downloaded successfully!')\n",
    "\n",
    "\n",
    "    zip_file_path = file_path\n",
    "    extract_directory = DATA_DIR\n",
    "\n",
    "    with zipfile.ZipFile(zip_file_path, 'r') as zip_ref:\n",
    "        zip_ref.extractall(extract_directory)\n",
    "\n",
    "    Path.unlink(file_path)  # Remove zip file.\n",
    "\n",
    "    print('Dataset extracted successfully!')\n",
    "    \n",
    "else:\n",
    "    print('Dataset already exist!')"
   ]
  },
  {
   "cell_type": "code",
   "execution_count": 7,
   "metadata": {},
   "outputs": [],
   "source": [
    "background_image_dir = image_dir / \"images_background\"\n",
    "evaluation_image_dir = image_dir / \"images_evaluation\""
   ]
  },
  {
   "cell_type": "code",
   "execution_count": 8,
   "metadata": {},
   "outputs": [
    {
     "name": "stdout",
     "output_type": "stream",
     "text": [
      "/home/studio-lab-user/sagemaker-studiolab-notebooks/Data/Omniglot/omniglot/images_background\n"
     ]
    }
   ],
   "source": [
    "print(background_image_dir)"
   ]
  },
  {
   "cell_type": "markdown",
   "metadata": {},
   "source": [
    "### Create Dataset"
   ]
  },
  {
   "cell_type": "code",
   "execution_count": 99,
   "metadata": {},
   "outputs": [],
   "source": [
    "def create_dataset(image_dir):\n",
    "    path_list = []  # Store the path of images.\n",
    "    class_list = []  # Store the class name.\n",
    "    \n",
    "    paths = Path(background_image_dir).glob('*')\n",
    "    \n",
    "    for path in paths:\n",
    "        # Because path is object not string.\n",
    "        path_str = str(path.name)  # Class name.\n",
    "        \n",
    "        sub_paths = Path(path).glob('*')\n",
    "    \n",
    "        for sub_path in sub_paths:\n",
    "            sub_path_str = str(sub_path.name)\n",
    "            class_list.append(path_str + '-' + sub_path_str)\n",
    "            \n",
    "            ssub_paths = Path(sub_path).glob('*')\n",
    "            \n",
    "            for ssub_path in ssub_paths:\n",
    "                ssub_path_str = str(ssub_path)  # path of image.\n",
    "                path_list.append(ssub_path_str)\n",
    "\n",
    "    return path_list, class_list"
   ]
  },
  {
   "cell_type": "code",
   "execution_count": 100,
   "metadata": {},
   "outputs": [],
   "source": [
    "train_path_list, train_class_list = create_dataset(background_image_dir)\n",
    "val_path_list, val_class_list = create_dataset(evaluation_image_dir)\n",
    "test_path_list, test_class_list = create_dataset(evaluation_image_dir)"
   ]
  },
  {
   "cell_type": "code",
   "execution_count": 101,
   "metadata": {},
   "outputs": [
    {
     "name": "stdout",
     "output_type": "stream",
     "text": [
      "number of images: 19285\n",
      "number of class: 964\n"
     ]
    }
   ],
   "source": [
    "print(\"number of images:\", len(train_path_list))\n",
    "print(\"number of class:\", len(train_class_list))"
   ]
  },
  {
   "cell_type": "code",
   "execution_count": 102,
   "metadata": {},
   "outputs": [],
   "source": [
    "idx_to_class = {i:j for i, j in enumerate(train_class_list)}  # Add index to class.\n",
    "class_to_idx = {value:key for key,value in idx_to_class.items()}  # Convert class name to index."
   ]
  },
  {
   "cell_type": "code",
   "execution_count": 104,
   "metadata": {},
   "outputs": [
    {
     "name": "stdout",
     "output_type": "stream",
     "text": [
      "Alphabet_of_the_Magi-character01\n",
      "0 Alphabet_of_the_Magi-character01\n",
      "1 Alphabet_of_the_Magi-character02\n",
      "2 Alphabet_of_the_Magi-character03\n",
      "3 Alphabet_of_the_Magi-character04\n",
      "4 Alphabet_of_the_Magi-character05\n",
      "temp_class has index: 0\n"
     ]
    }
   ],
   "source": [
    "# Test\n",
    "temp_class = train_path_list[0].split('/')[-3] + \"-\" + train_path_list[0].split('/')[-2]  # Get class name from the path.\n",
    "print(temp_class)  \n",
    "\n",
    "for i in range(5):\n",
    "    print(i, idx_to_class[i])\n",
    "    \n",
    "print(\"temp_class has index:\", class_to_idx[temp_class])"
   ]
  },
  {
   "cell_type": "markdown",
   "metadata": {},
   "source": [
    "### Dataset Class"
   ]
  },
  {
   "cell_type": "code",
   "execution_count": 77,
   "metadata": {},
   "outputs": [],
   "source": [
    "class Omniglot(Dataset):\n",
    "    def __init__(self, image_paths, transform=None):\n",
    "        self.image_paths = image_paths\n",
    "        self.transform = transform\n",
    "        \n",
    "    def __len__(self):\n",
    "        return len(self.image_paths)\n",
    "\n",
    "    def __getitem__(self, idx):\n",
    "        image1_path = random.choice(self.image_paths)\n",
    "        # Get class name from the path.\n",
    "        image1_class_name = image1_path.split('/')[-3] + '-' + image1_path.split('/')[-2]\n",
    "        \n",
    "        # 50% of images to be in the same class.\n",
    "        from_same_class = random.randint(0, 1)  # 1 for same class.\n",
    "        \n",
    "        if from_same_class:\n",
    "            while True:\n",
    "                image2_path = random.choice(self.image_paths)\n",
    "                image2_class_name = image2_path.split('/')[-3] + '-' + image2_path.split('/')[-2]\n",
    "                if image1_class_name == image2_class_name:\n",
    "                    break\n",
    "        else:\n",
    "            while True:\n",
    "                image2_path = random.choice(self.image_paths)\n",
    "                image2_class_name = image2_path.split('/')[-3] + '-' + image2_path.split('/')[-2]\n",
    "                if image1_class_name != image2_class_name:\n",
    "                    break\n",
    "        \n",
    "        image1 = torchvision.io.read_image(image1_path)\n",
    "        image2 = torchvision.io.read_image(image2_path)\n",
    "        \n",
    "        if self.transform is not None:\n",
    "            image1 = self.transform(image=image1)[\"image\"]\n",
    "            image2 = self.transform(image=image2)[\"image\"]\n",
    "        \n",
    "        label = from_same_class\n",
    "        \n",
    "        return image1, image2, label"
   ]
  },
  {
   "cell_type": "code",
   "execution_count": 67,
   "metadata": {},
   "outputs": [],
   "source": [
    "from pprint import pprint"
   ]
  },
  {
   "cell_type": "markdown",
   "metadata": {},
   "source": [
    "### Load Dataset"
   ]
  },
  {
   "cell_type": "code",
   "execution_count": 78,
   "metadata": {},
   "outputs": [],
   "source": [
    "train_dataset = Omniglot(train_path_list)\n",
    "val_dataset = Omniglot(val_path_list)\n",
    "test_dataset = Omniglot(test_path_list)"
   ]
  },
  {
   "cell_type": "code",
   "execution_count": 93,
   "metadata": {},
   "outputs": [
    {
     "name": "stdout",
     "output_type": "stream",
     "text": [
      "torch.Size([1, 105, 105])\n",
      "torch.Size([1, 105, 105])\n",
      "1\n"
     ]
    },
    {
     "data": {
      "image/png": "[encoded data removed]",
      "text/plain": [
       "<Figure size 432x288 with 2 Axes>"
      ]
     },
     "metadata": {
      "needs_background": "light"
     },
     "output_type": "display_data"
    }
   ],
   "source": [
    "for image1, image2, label in train_dataset:\n",
    "    print(image1.shape)\n",
    "    print(image2.shape)\n",
    "    print(label)\n",
    "    \n",
    "    f, (ax1, ax2) = plt.subplots(1, 2)\n",
    "    ax1.imshow(image1.permute(1, 2, 0))\n",
    "    ax2.imshow(image2.permute(1, 2, 0))\n",
    "\n",
    "    break"
   ]
  },
  {
   "cell_type": "markdown",
   "metadata": {},
   "source": [
    "### Create Dataloader"
   ]
  },
  {
   "cell_type": "code",
   "execution_count": 150,
   "metadata": {},
   "outputs": [],
   "source": [
    "train_dataloader = DataLoader(train_dataset, shuffle=True, batch_size=8)\n",
    "val_dataloader = DataLoader(val_dataset, shuffle=True, batch_size=8)\n",
    "test_dataloader = DataLoader(test_dataset, shuffle=True, batch_size=8)"
   ]
  },
  {
   "cell_type": "code",
   "execution_count": 131,
   "metadata": {},
   "outputs": [
    {
     "name": "stdout",
     "output_type": "stream",
     "text": [
      "torch.Size([8, 1, 105, 105])\n",
      "torch.Size([8, 1, 105, 105])\n",
      "torch.Size([8])\n"
     ]
    }
   ],
   "source": [
    "for image1, image2, label in train_dataloader:\n",
    "    print(image1.shape)\n",
    "    print(image2.shape)\n",
    "    print(label.shape)\n",
    "    break"
   ]
  },
  {
   "cell_type": "markdown",
   "metadata": {},
   "source": [
    "## Create Model"
   ]
  },
  {
   "cell_type": "code",
   "execution_count": 112,
   "metadata": {},
   "outputs": [],
   "source": [
    "class SiameseNetwork(nn.Module):\n",
    "    def __init__(self):\n",
    "        super().__init__()\n",
    "        self.conv = nn.Sequential(\n",
    "            nn.Conv2d(1, 64, 10),\n",
    "            nn.ReLU(inplace=True),\n",
    "            nn.MaxPool2d(2),\n",
    "            nn.Conv2d(64, 128, 7),\n",
    "            nn.ReLU(),\n",
    "            nn.MaxPool2d(2),\n",
    "            nn.Conv2d(128, 128, 4),\n",
    "            nn.ReLU(),\n",
    "            nn.MaxPool2d(2),\n",
    "            nn.Conv2d(128, 256, 4),\n",
    "            nn.ReLU(),\n",
    "        )\n",
    "        self.fc = nn.Sequential(\n",
    "            nn.Linear(9216, 4096), \n",
    "            nn.Sigmoid()\n",
    "        )\n",
    "        self.output = nn.Linear(4096, 1)\n",
    "        \n",
    "    def _forward(self, x):\n",
    "        x = self.conv(x)\n",
    "        x = x.view(x.size()[0], -1)\n",
    "        x = self.fc(x)\n",
    "        return x\n",
    "    \n",
    "    def forward(self, input1, input2):\n",
    "        output1 = self._forward(input1)\n",
    "        output2 = self._forward(input2)\n",
    "        distance = torch.abs(output1 - output2)\n",
    "        output = self.output(distance)\n",
    "        return output"
   ]
  },
  {
   "cell_type": "code",
   "execution_count": 113,
   "metadata": {},
   "outputs": [],
   "source": [
    "siamese_network = SiameseNetwork()\n",
    "\n",
    "if torch.cuda.is_available():\n",
    "    siamese_network.cuda()"
   ]
  },
  {
   "cell_type": "code",
   "execution_count": 136,
   "metadata": {},
   "outputs": [
    {
     "name": "stdout",
     "output_type": "stream",
     "text": [
      "----------------------------------------------------------------\n",
      "        Layer (type)               Output Shape         Param #\n",
      "================================================================\n",
      "            Conv2d-1           [-1, 64, 96, 96]           6,464\n",
      "              ReLU-2           [-1, 64, 96, 96]               0\n",
      "         MaxPool2d-3           [-1, 64, 48, 48]               0\n",
      "            Conv2d-4          [-1, 128, 42, 42]         401,536\n",
      "              ReLU-5          [-1, 128, 42, 42]               0\n",
      "         MaxPool2d-6          [-1, 128, 21, 21]               0\n",
      "            Conv2d-7          [-1, 128, 18, 18]         262,272\n",
      "              ReLU-8          [-1, 128, 18, 18]               0\n",
      "         MaxPool2d-9            [-1, 128, 9, 9]               0\n",
      "           Conv2d-10            [-1, 256, 6, 6]         524,544\n",
      "             ReLU-11            [-1, 256, 6, 6]               0\n",
      "           Linear-12                 [-1, 4096]      37,752,832\n",
      "          Sigmoid-13                 [-1, 4096]               0\n",
      "           Conv2d-14           [-1, 64, 96, 96]           6,464\n",
      "             ReLU-15           [-1, 64, 96, 96]               0\n",
      "        MaxPool2d-16           [-1, 64, 48, 48]               0\n",
      "           Conv2d-17          [-1, 128, 42, 42]         401,536\n",
      "             ReLU-18          [-1, 128, 42, 42]               0\n",
      "        MaxPool2d-19          [-1, 128, 21, 21]               0\n",
      "           Conv2d-20          [-1, 128, 18, 18]         262,272\n",
      "             ReLU-21          [-1, 128, 18, 18]               0\n",
      "        MaxPool2d-22            [-1, 128, 9, 9]               0\n",
      "           Conv2d-23            [-1, 256, 6, 6]         524,544\n",
      "             ReLU-24            [-1, 256, 6, 6]               0\n",
      "           Linear-25                 [-1, 4096]      37,752,832\n",
      "          Sigmoid-26                 [-1, 4096]               0\n",
      "           Linear-27                    [-1, 1]           4,097\n",
      "================================================================\n",
      "Total params: 77,899,393\n",
      "Trainable params: 77,899,393\n",
      "Non-trainable params: 0\n",
      "----------------------------------------------------------------\n",
      "Input size (MB): 463.68\n",
      "Forward/backward pass size (MB): 29.83\n",
      "Params size (MB): 297.16\n",
      "Estimated Total Size (MB): 790.67\n",
      "----------------------------------------------------------------\n"
     ]
    }
   ],
   "source": [
    "summary(siamese_network, input_size=[(1, 105, 105), (1, 105, 105)])"
   ]
  },
  {
   "cell_type": "code",
   "execution_count": 123,
   "metadata": {},
   "outputs": [],
   "source": [
    "loss_fn = torch.nn.BCEWithLogitsLoss(size_average=True)\n",
    "optimizer = optim.Adam(siamese_network.parameters(), lr = 0.0005)"
   ]
  },
  {
   "cell_type": "code",
   "execution_count": 149,
   "metadata": {},
   "outputs": [
    {
     "name": "stdout",
     "output_type": "stream",
     "text": [
      "0\n",
      "torch.Size([8, 1, 105, 105])\n",
      "torch.Size([8, 1, 105, 105])\n",
      "torch.Size([8])\n",
      "torch.uint8\n",
      "torch.int64\n"
     ]
    }
   ],
   "source": [
    "for i, (image0, image1, label) in enumerate(train_dataloader):\n",
    "    print(i)\n",
    "    print(image0.shape)\n",
    "    print(image1.shape)\n",
    "    print(label.shape)\n",
    "    \n",
    "    print(image0.dtype)\n",
    "    print(label.dtype)\n",
    "    break"
   ]
  },
  {
   "cell_type": "code",
   "execution_count": null,
   "metadata": {},
   "outputs": [],
   "source": [
    "counter = []\n",
    "loss_history = [] \n",
    "iteration_number= 0\n",
    "loss_val = 0\n",
    "\n",
    "for epoch in range(100):\n",
    "    for i, (image0, image1, label) in enumerate(train_dataloader):\n",
    "        \n",
    "        # image0, image1, label = image0.cuda(), image1.cuda(), label.cuda()\n",
    "        image0, image1 = image0.float(), image1.float()\n",
    "        label = label.reshape(-1, 1).float()\n",
    "\n",
    "        optimizer.zero_grad()\n",
    "        output = siamese_network(image0, image1)\n",
    "        \n",
    "        loss = loss_fn(output, label)\n",
    "        \n",
    "        loss_val += loss.item()\n",
    "        \n",
    "        loss.backward()\n",
    "        optimizer.step()\n",
    "\n",
    "    \n",
    "    print(f\"Epoch number {epoch}\\n Current loss {loss.item()}\\n\")\n",
    "    iteration_number += 10\n",
    "\n",
    "    counter.append(iteration_number)\n",
    "    loss_history.append(loss.item())"
   ]
  },
  {
   "cell_type": "code",
   "execution_count": null,
   "metadata": {},
   "outputs": [],
   "source": []
  }
 ],
 "metadata": {
  "kernelspec": {
   "display_name": "default:Python",
   "language": "python",
   "name": "conda-env-default-py"
  },
  "language_info": {
   "codemirror_mode": {
    "name": "ipython",
    "version": 3
   },
   "file_extension": ".py",
   "mimetype": "text/x-python",
   "name": "python",
   "nbconvert_exporter": "python",
   "pygments_lexer": "ipython3",
   "version": "3.9.10"
  }
 },
 "nbformat": 4,
 "nbformat_minor": 4
}
